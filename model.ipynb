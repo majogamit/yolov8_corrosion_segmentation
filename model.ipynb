{
 "cells": [
  {
   "cell_type": "code",
   "execution_count": 1,
   "id": "5368c4c6",
   "metadata": {},
   "outputs": [
    {
     "name": "stdout",
     "output_type": "stream",
     "text": [
      "Wed Jul 19 14:37:10 2023       \n",
      "+-----------------------------------------------------------------------------+\n",
      "| NVIDIA-SMI 511.69       Driver Version: 511.69       CUDA Version: 11.6     |\n",
      "|-------------------------------+----------------------+----------------------+\n",
      "| GPU  Name            TCC/WDDM | Bus-Id        Disp.A | Volatile Uncorr. ECC |\n",
      "| Fan  Temp  Perf  Pwr:Usage/Cap|         Memory-Usage | GPU-Util  Compute M. |\n",
      "|                               |                      |               MIG M. |\n",
      "|===============================+======================+======================|\n",
      "|   0  NVIDIA GeForce ... WDDM  | 00000000:02:00.0 Off |                  N/A |\n",
      "| N/A   47C    P0    N/A /  N/A |      0MiB /  2048MiB |      2%      Default |\n",
      "|                               |                      |                  N/A |\n",
      "+-------------------------------+----------------------+----------------------+\n",
      "                                                                               \n",
      "+-----------------------------------------------------------------------------+\n",
      "| Processes:                                                                  |\n",
      "|  GPU   GI   CI        PID   Type   Process name                  GPU Memory |\n",
      "|        ID   ID                                                   Usage      |\n",
      "|=============================================================================|\n",
      "|  No running processes found                                                 |\n",
      "+-----------------------------------------------------------------------------+\n"
     ]
    }
   ],
   "source": [
    "!nvidia-smi"
   ]
  },
  {
   "cell_type": "code",
   "execution_count": 2,
   "id": "17ccd7e8",
   "metadata": {},
   "outputs": [
    {
     "name": "stdout",
     "output_type": "stream",
     "text": [
      "C:\\Users\\Administrator\\Intern Code\\yolov8_corrosion_segmentation\n"
     ]
    }
   ],
   "source": [
    "import os\n",
    "HOME = os.getcwd()\n",
    "print(HOME)"
   ]
  },
  {
   "cell_type": "code",
   "execution_count": 3,
   "id": "455579ed",
   "metadata": {},
   "outputs": [],
   "source": [
    "# # Pip install method (recommended)\n",
    "\n",
    "# !pip install ultralytics==8.0.28\n",
    "\n",
    "# from IPython import display\n",
    "# display.clear_output()\n",
    "\n",
    "# import ultralytics\n",
    "# ultralytics.checks()"
   ]
  },
  {
   "cell_type": "code",
   "execution_count": 4,
   "id": "fc97c29e",
   "metadata": {},
   "outputs": [],
   "source": [
    "from ultralytics import YOLO\n",
    "\n",
    "from IPython.display import display, Image"
   ]
  },
  {
   "cell_type": "code",
   "execution_count": 5,
   "id": "70da92a6",
   "metadata": {},
   "outputs": [],
   "source": [
    "# %cd {HOME}\n",
    "# !yolo task=segment mode=predict model=yolov8s-seg.pt conf=0.25 source='https://media.roboflow.com/notebooks/examples/dog.jpeg' save=true"
   ]
  },
  {
   "cell_type": "code",
   "execution_count": 6,
   "id": "8e35b5c9",
   "metadata": {},
   "outputs": [],
   "source": [
    "# %cd {HOME}\n",
    "# Image(filename='runs/segment/predict/dog.jpeg', height=600)"
   ]
  },
  {
   "cell_type": "code",
   "execution_count": 7,
   "id": "579793ac",
   "metadata": {},
   "outputs": [],
   "source": [
    "model = YOLO(f'{HOME}/yolov8m-seg.pt')\n",
    "# results = model.predict(source='https://media.roboflow.com/notebooks/examples/dog.jpeg', conf=0.25)"
   ]
  },
  {
   "cell_type": "code",
   "execution_count": 8,
   "id": "4a6c56a9",
   "metadata": {},
   "outputs": [],
   "source": [
    "# results[0].boxes.xyxy"
   ]
  },
  {
   "cell_type": "code",
   "execution_count": 9,
   "id": "c90febe6",
   "metadata": {},
   "outputs": [],
   "source": [
    "# results[0].boxes.conf"
   ]
  },
  {
   "cell_type": "code",
   "execution_count": 10,
   "id": "d10e4042",
   "metadata": {},
   "outputs": [],
   "source": [
    "# results[0].boxes.cls"
   ]
  },
  {
   "cell_type": "code",
   "execution_count": 11,
   "id": "567fd00f",
   "metadata": {},
   "outputs": [],
   "source": [
    "# results[0].masks.masks"
   ]
  },
  {
   "cell_type": "code",
   "execution_count": 12,
   "id": "41b5dd69",
   "metadata": {},
   "outputs": [],
   "source": [
    "# import os\n",
    "\n",
    "# path = f'{HOME}/datasets' \n",
    "\n",
    "# os.makedirs(path, exist_ok=False) \n",
    "\n",
    "# print(\"The new directory is created!\")\n",
    "\n",
    "# %cd {HOME}/datasets"
   ]
  },
  {
   "cell_type": "code",
   "execution_count": 13,
   "id": "cefbe42b",
   "metadata": {},
   "outputs": [],
   "source": [
    "# # !pip install roboflow\n",
    "\n",
    "# from roboflow import Roboflow\n",
    "# rf = Roboflow(api_key=\"YXyWv4Cy51o8CG053185\")\n",
    "# project = rf.workspace(\"corrosion-djibf\").project(\"corrosion-seg\")\n",
    "# dataset = project.version(3).download(\"yolov8\")\n",
    "\n"
   ]
  },
  {
   "cell_type": "code",
   "execution_count": 14,
   "id": "56a85bbd",
   "metadata": {},
   "outputs": [],
   "source": [
    "os.environ[\"KMP_DUPLICATE_LIB_OK\"]=\"TRUE\""
   ]
  },
  {
   "cell_type": "code",
   "execution_count": 16,
   "id": "8094d0bf",
   "metadata": {
    "scrolled": true
   },
   "outputs": [
    {
     "name": "stdout",
     "output_type": "stream",
     "text": [
      "C:\\Users\\Administrator\\Intern Code\\yolov8_corrosion_segmentation\n",
      "^C\n"
     ]
    }
   ],
   "source": [
    "%cd {HOME}\n",
    "\n",
    "!yolo task=segment mode=train model=yolov8s-seg.pt data=data.yaml epochs=100 imgsz=640"
   ]
  },
  {
   "cell_type": "code",
   "execution_count": null,
   "id": "406855e8",
   "metadata": {},
   "outputs": [],
   "source": []
  }
 ],
 "metadata": {
  "kernelspec": {
   "display_name": "Python 3 (ipykernel)",
   "language": "python",
   "name": "python3"
  },
  "language_info": {
   "codemirror_mode": {
    "name": "ipython",
    "version": 3
   },
   "file_extension": ".py",
   "mimetype": "text/x-python",
   "name": "python",
   "nbconvert_exporter": "python",
   "pygments_lexer": "ipython3",
   "version": "3.10.9"
  }
 },
 "nbformat": 4,
 "nbformat_minor": 5
}
